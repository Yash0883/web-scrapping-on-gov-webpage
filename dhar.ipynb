{
 "cells": [
  {
   "cell_type": "code",
   "execution_count": 4,
   "id": "2e386462-68cd-4c3b-8720-dfc6fc8ea9e0",
   "metadata": {},
   "outputs": [
    {
     "ename": "NoSuchElementException",
     "evalue": "Message: no such element: Unable to locate element: {\"method\":\"css selector\",\"selector\":\"[id=\"district\"]\"}\n  (Session info: chrome=123.0.6312.123); For documentation on this error, please visit: https://www.selenium.dev/documentation/webdriver/troubleshooting/errors#no-such-element-exception\nStacktrace:\n\tGetHandleVerifier [0x00007FF6289F7032+63090]\n\t(No symbol) [0x00007FF628962C82]\n\t(No symbol) [0x00007FF6287FEC65]\n\t(No symbol) [0x00007FF62884499D]\n\t(No symbol) [0x00007FF628844ADC]\n\t(No symbol) [0x00007FF628885B37]\n\t(No symbol) [0x00007FF62886701F]\n\t(No symbol) [0x00007FF628883412]\n\t(No symbol) [0x00007FF628866D83]\n\t(No symbol) [0x00007FF6288383A8]\n\t(No symbol) [0x00007FF628839441]\n\tGetHandleVerifier [0x00007FF628DF25AD+4238317]\n\tGetHandleVerifier [0x00007FF628E2F70D+4488525]\n\tGetHandleVerifier [0x00007FF628E279EF+4456495]\n\tGetHandleVerifier [0x00007FF628AD0576+953270]\n\t(No symbol) [0x00007FF62896E54F]\n\t(No symbol) [0x00007FF628969224]\n\t(No symbol) [0x00007FF62896935B]\n\t(No symbol) [0x00007FF628959B94]\n\tBaseThreadInitThunk [0x00007FF8AA8B257D+29]\n\tRtlUserThreadStart [0x00007FF8AC4AAA48+40]\n",
     "output_type": "error",
     "traceback": [
      "\u001b[1;31m---------------------------------------------------------------------------\u001b[0m",
      "\u001b[1;31mNoSuchElementException\u001b[0m                    Traceback (most recent call last)",
      "Cell \u001b[1;32mIn[4], line 46\u001b[0m\n\u001b[0;32m     43\u001b[0m mandal \u001b[38;5;241m=\u001b[39m \u001b[38;5;124m\"\u001b[39m\u001b[38;5;124mYourMandal\u001b[39m\u001b[38;5;124m\"\u001b[39m\n\u001b[0;32m     44\u001b[0m village \u001b[38;5;241m=\u001b[39m \u001b[38;5;124m\"\u001b[39m\u001b[38;5;124mYourVillage\u001b[39m\u001b[38;5;124m\"\u001b[39m\n\u001b[1;32m---> 46\u001b[0m survey_numbers \u001b[38;5;241m=\u001b[39m \u001b[43mfetch_survey_numbers\u001b[49m\u001b[43m(\u001b[49m\u001b[43mdistrict\u001b[49m\u001b[43m,\u001b[49m\u001b[43m \u001b[49m\u001b[43mmandal\u001b[49m\u001b[43m,\u001b[49m\u001b[43m \u001b[49m\u001b[43mvillage\u001b[49m\u001b[43m)\u001b[49m\n\u001b[0;32m     47\u001b[0m \u001b[38;5;28mprint\u001b[39m(\u001b[38;5;124m\"\u001b[39m\u001b[38;5;124mSurvey numbers:\u001b[39m\u001b[38;5;124m\"\u001b[39m, survey_numbers)\n",
      "Cell \u001b[1;32mIn[4], line 15\u001b[0m, in \u001b[0;36mfetch_survey_numbers\u001b[1;34m(district, mandal, village)\u001b[0m\n\u001b[0;32m     12\u001b[0m driver\u001b[38;5;241m.\u001b[39mget(\u001b[38;5;124m\"\u001b[39m\u001b[38;5;124mhttps://dharani.telangana.gov.in/knowLandStatus\u001b[39m\u001b[38;5;124m\"\u001b[39m)\n\u001b[0;32m     14\u001b[0m \u001b[38;5;66;03m# Select District\u001b[39;00m\n\u001b[1;32m---> 15\u001b[0m district_dropdown \u001b[38;5;241m=\u001b[39m Select(\u001b[43mdriver\u001b[49m\u001b[38;5;241;43m.\u001b[39;49m\u001b[43mfind_element\u001b[49m\u001b[43m(\u001b[49m\u001b[43mBy\u001b[49m\u001b[38;5;241;43m.\u001b[39;49m\u001b[43mID\u001b[49m\u001b[43m,\u001b[49m\u001b[43m \u001b[49m\u001b[38;5;124;43m\"\u001b[39;49m\u001b[38;5;124;43mdistrict\u001b[39;49m\u001b[38;5;124;43m\"\u001b[39;49m\u001b[43m)\u001b[49m)\n\u001b[0;32m     16\u001b[0m district_dropdown\u001b[38;5;241m.\u001b[39mselect_by_visible_text(district)\n\u001b[0;32m     18\u001b[0m \u001b[38;5;66;03m# Select Mandal\u001b[39;00m\n",
      "File \u001b[1;32m~\\AppData\\Local\\Programs\\Python\\Python311\\Lib\\site-packages\\selenium\\webdriver\\remote\\webdriver.py:741\u001b[0m, in \u001b[0;36mWebDriver.find_element\u001b[1;34m(self, by, value)\u001b[0m\n\u001b[0;32m    738\u001b[0m     by \u001b[38;5;241m=\u001b[39m By\u001b[38;5;241m.\u001b[39mCSS_SELECTOR\n\u001b[0;32m    739\u001b[0m     value \u001b[38;5;241m=\u001b[39m \u001b[38;5;124mf\u001b[39m\u001b[38;5;124m'\u001b[39m\u001b[38;5;124m[name=\u001b[39m\u001b[38;5;124m\"\u001b[39m\u001b[38;5;132;01m{\u001b[39;00mvalue\u001b[38;5;132;01m}\u001b[39;00m\u001b[38;5;124m\"\u001b[39m\u001b[38;5;124m]\u001b[39m\u001b[38;5;124m'\u001b[39m\n\u001b[1;32m--> 741\u001b[0m \u001b[38;5;28;01mreturn\u001b[39;00m \u001b[38;5;28;43mself\u001b[39;49m\u001b[38;5;241;43m.\u001b[39;49m\u001b[43mexecute\u001b[49m\u001b[43m(\u001b[49m\u001b[43mCommand\u001b[49m\u001b[38;5;241;43m.\u001b[39;49m\u001b[43mFIND_ELEMENT\u001b[49m\u001b[43m,\u001b[49m\u001b[43m \u001b[49m\u001b[43m{\u001b[49m\u001b[38;5;124;43m\"\u001b[39;49m\u001b[38;5;124;43musing\u001b[39;49m\u001b[38;5;124;43m\"\u001b[39;49m\u001b[43m:\u001b[49m\u001b[43m \u001b[49m\u001b[43mby\u001b[49m\u001b[43m,\u001b[49m\u001b[43m \u001b[49m\u001b[38;5;124;43m\"\u001b[39;49m\u001b[38;5;124;43mvalue\u001b[39;49m\u001b[38;5;124;43m\"\u001b[39;49m\u001b[43m:\u001b[49m\u001b[43m \u001b[49m\u001b[43mvalue\u001b[49m\u001b[43m}\u001b[49m\u001b[43m)\u001b[49m[\u001b[38;5;124m\"\u001b[39m\u001b[38;5;124mvalue\u001b[39m\u001b[38;5;124m\"\u001b[39m]\n",
      "File \u001b[1;32m~\\AppData\\Local\\Programs\\Python\\Python311\\Lib\\site-packages\\selenium\\webdriver\\remote\\webdriver.py:347\u001b[0m, in \u001b[0;36mWebDriver.execute\u001b[1;34m(self, driver_command, params)\u001b[0m\n\u001b[0;32m    345\u001b[0m response \u001b[38;5;241m=\u001b[39m \u001b[38;5;28mself\u001b[39m\u001b[38;5;241m.\u001b[39mcommand_executor\u001b[38;5;241m.\u001b[39mexecute(driver_command, params)\n\u001b[0;32m    346\u001b[0m \u001b[38;5;28;01mif\u001b[39;00m response:\n\u001b[1;32m--> 347\u001b[0m     \u001b[38;5;28;43mself\u001b[39;49m\u001b[38;5;241;43m.\u001b[39;49m\u001b[43merror_handler\u001b[49m\u001b[38;5;241;43m.\u001b[39;49m\u001b[43mcheck_response\u001b[49m\u001b[43m(\u001b[49m\u001b[43mresponse\u001b[49m\u001b[43m)\u001b[49m\n\u001b[0;32m    348\u001b[0m     response[\u001b[38;5;124m\"\u001b[39m\u001b[38;5;124mvalue\u001b[39m\u001b[38;5;124m\"\u001b[39m] \u001b[38;5;241m=\u001b[39m \u001b[38;5;28mself\u001b[39m\u001b[38;5;241m.\u001b[39m_unwrap_value(response\u001b[38;5;241m.\u001b[39mget(\u001b[38;5;124m\"\u001b[39m\u001b[38;5;124mvalue\u001b[39m\u001b[38;5;124m\"\u001b[39m, \u001b[38;5;28;01mNone\u001b[39;00m))\n\u001b[0;32m    349\u001b[0m     \u001b[38;5;28;01mreturn\u001b[39;00m response\n",
      "File \u001b[1;32m~\\AppData\\Local\\Programs\\Python\\Python311\\Lib\\site-packages\\selenium\\webdriver\\remote\\errorhandler.py:229\u001b[0m, in \u001b[0;36mErrorHandler.check_response\u001b[1;34m(self, response)\u001b[0m\n\u001b[0;32m    227\u001b[0m         alert_text \u001b[38;5;241m=\u001b[39m value[\u001b[38;5;124m\"\u001b[39m\u001b[38;5;124malert\u001b[39m\u001b[38;5;124m\"\u001b[39m]\u001b[38;5;241m.\u001b[39mget(\u001b[38;5;124m\"\u001b[39m\u001b[38;5;124mtext\u001b[39m\u001b[38;5;124m\"\u001b[39m)\n\u001b[0;32m    228\u001b[0m     \u001b[38;5;28;01mraise\u001b[39;00m exception_class(message, screen, stacktrace, alert_text)  \u001b[38;5;66;03m# type: ignore[call-arg]  # mypy is not smart enough here\u001b[39;00m\n\u001b[1;32m--> 229\u001b[0m \u001b[38;5;28;01mraise\u001b[39;00m exception_class(message, screen, stacktrace)\n",
      "\u001b[1;31mNoSuchElementException\u001b[0m: Message: no such element: Unable to locate element: {\"method\":\"css selector\",\"selector\":\"[id=\"district\"]\"}\n  (Session info: chrome=123.0.6312.123); For documentation on this error, please visit: https://www.selenium.dev/documentation/webdriver/troubleshooting/errors#no-such-element-exception\nStacktrace:\n\tGetHandleVerifier [0x00007FF6289F7032+63090]\n\t(No symbol) [0x00007FF628962C82]\n\t(No symbol) [0x00007FF6287FEC65]\n\t(No symbol) [0x00007FF62884499D]\n\t(No symbol) [0x00007FF628844ADC]\n\t(No symbol) [0x00007FF628885B37]\n\t(No symbol) [0x00007FF62886701F]\n\t(No symbol) [0x00007FF628883412]\n\t(No symbol) [0x00007FF628866D83]\n\t(No symbol) [0x00007FF6288383A8]\n\t(No symbol) [0x00007FF628839441]\n\tGetHandleVerifier [0x00007FF628DF25AD+4238317]\n\tGetHandleVerifier [0x00007FF628E2F70D+4488525]\n\tGetHandleVerifier [0x00007FF628E279EF+4456495]\n\tGetHandleVerifier [0x00007FF628AD0576+953270]\n\t(No symbol) [0x00007FF62896E54F]\n\t(No symbol) [0x00007FF628969224]\n\t(No symbol) [0x00007FF62896935B]\n\t(No symbol) [0x00007FF628959B94]\n\tBaseThreadInitThunk [0x00007FF8AA8B257D+29]\n\tRtlUserThreadStart [0x00007FF8AC4AAA48+40]\n"
     ]
    }
   ],
   "source": [
    "from selenium import webdriver\n",
    "from selenium.webdriver.common.by import By\n",
    "from selenium.webdriver.support.ui import Select\n",
    "from selenium.webdriver.support.ui import WebDriverWait\n",
    "from selenium.webdriver.support import expected_conditions as EC\n",
    "\n",
    "def fetch_survey_numbers(district, mandal, village):\n",
    "    # Initialize Chrome webdriver\n",
    "    driver = webdriver.Chrome()\n",
    "\n",
    "    # Navigate to the website\n",
    "    driver.get(\"https://dharani.telangana.gov.in/knowLandStatus\")\n",
    "\n",
    "    # Select District\n",
    "    district_dropdown = Select(driver.find_element(By.ID, \"district\"))\n",
    "    district_dropdown.select_by_visible_text(district)\n",
    "\n",
    "    # Select Mandal\n",
    "    mandal_dropdown = Select(driver.find_element(By.ID, \"mandal\"))\n",
    "    mandal_dropdown.select_by_visible_text(mandal)\n",
    "\n",
    "    # Select Village\n",
    "    village_dropdown = Select(driver.find_element(By.ID, \"village\"))\n",
    "    village_dropdown.select_by_visible_text(village)\n",
    "\n",
    "    # Click on Submit button to fetch Survey numbers\n",
    "    driver.find_element(By.ID, \"button\").click()\n",
    "\n",
    "    # Wait for Survey numbers to load\n",
    "    WebDriverWait(driver, 10).until(EC.presence_of_element_located((By.ID, \"survey_no\")))\n",
    "\n",
    "    # Extract Survey numbers\n",
    "    survey_numbers_element = driver.find_element(By.ID, \"survey_no\")\n",
    "    survey_numbers = survey_numbers_element.text.split(\"\\n\")\n",
    "\n",
    "    # Close the browser\n",
    "    driver.quit()\n",
    "\n",
    "    return survey_numbers\n",
    "\n",
    "# Example usage\n",
    "district = \"YourDistrict\"\n",
    "mandal = \"YourMandal\"\n",
    "village = \"YourVillage\"\n",
    "\n",
    "survey_numbers = fetch_survey_numbers(district, mandal, village)\n",
    "print(\"Survey numbers:\", survey_numbers)\n"
   ]
  },
  {
   "cell_type": "code",
   "execution_count": null,
   "id": "9ce684bb-b94f-42fb-afee-b82fcf82a25e",
   "metadata": {},
   "outputs": [],
   "source": []
  }
 ],
 "metadata": {
  "kernelspec": {
   "display_name": "Python 3 (ipykernel)",
   "language": "python",
   "name": "python3"
  },
  "language_info": {
   "codemirror_mode": {
    "name": "ipython",
    "version": 3
   },
   "file_extension": ".py",
   "mimetype": "text/x-python",
   "name": "python",
   "nbconvert_exporter": "python",
   "pygments_lexer": "ipython3",
   "version": "3.11.8"
  }
 },
 "nbformat": 4,
 "nbformat_minor": 5
}
